{
 "cells": [
  {
   "cell_type": "code",
   "execution_count": 1,
   "id": "72a80daf",
   "metadata": {},
   "outputs": [],
   "source": [
    "import numpy as np"
   ]
  },
  {
   "cell_type": "code",
   "execution_count": 4,
   "id": "bb19a6c0",
   "metadata": {},
   "outputs": [
    {
     "data": {
      "text/plain": [
       "array([100, 101, 102, 103, 104, 105, 106, 107, 108, 109, 110, 111, 112,\n",
       "       113, 114, 115, 116, 117, 118, 119, 120, 121, 122, 123, 124, 125,\n",
       "       126, 127, 128, 129, 130, 131, 132, 133, 134, 135, 136, 137, 138,\n",
       "       139, 140, 141, 142, 143, 144, 145, 146, 147, 148, 149, 150, 151,\n",
       "       152, 153, 154, 155, 156, 157, 158, 159, 160, 161, 162, 163, 164,\n",
       "       165, 166, 167, 168, 169, 170, 171, 172, 173, 174, 175, 176, 177,\n",
       "       178, 179, 180, 181, 182, 183, 184, 185, 186, 187, 188, 189, 190,\n",
       "       191, 192, 193, 194, 195, 196, 197, 198, 199])"
      ]
     },
     "execution_count": 4,
     "metadata": {},
     "output_type": "execute_result"
    }
   ],
   "source": [
    "\n",
    "import numpy as np\n",
    "arr1= np.arange (100,200)\n",
    "arr1"
   ]
  },
  {
   "cell_type": "code",
   "execution_count": 5,
   "id": "9aeea734",
   "metadata": {},
   "outputs": [
    {
     "name": "stdout",
     "output_type": "stream",
     "text": [
      "[110 111 112 113 114 115 116 117 118 119 120 121 122 123 124 125 126 127\n",
      " 128 129 130 131 132 133 134 135 136 137 138 139 140 141 142 143 144 145\n",
      " 146 147 148 149 150 151 152 153 154 155 156 157 158 159 160 161 162 163\n",
      " 164 165 166 167 168 169 170 171 172 173 174 175 176 177 178 179 180 181\n",
      " 182 183 184 185 186 187 188 189 190 191 192 193 194 195 196 197 198 199] \n",
      "\n"
     ]
    }
   ],
   "source": [
    "print (arr1[10:],'\\n')"
   ]
  },
  {
   "cell_type": "code",
   "execution_count": 6,
   "id": "d28526d8",
   "metadata": {},
   "outputs": [
    {
     "name": "stdout",
     "output_type": "stream",
     "text": [
      "[100 101 102 103 104 105 106 107 108 109 110 111 112 113 114 115 116 117\n",
      " 118 119] \n",
      "\n"
     ]
    }
   ],
   "source": [
    "print (arr1[:20],'\\n')"
   ]
  },
  {
   "cell_type": "code",
   "execution_count": 7,
   "id": "c24a0bc3",
   "metadata": {},
   "outputs": [
    {
     "name": "stdout",
     "output_type": "stream",
     "text": [
      "[110 111 112 113 114 115 116 117 118 119] \n",
      "\n"
     ]
    }
   ],
   "source": [
    "\n",
    "print (arr1[10:20],'\\n')"
   ]
  },
  {
   "cell_type": "code",
   "execution_count": 8,
   "id": "dee33aa9",
   "metadata": {},
   "outputs": [
    {
     "name": "stdout",
     "output_type": "stream",
     "text": [
      "[110 115 120 125 130 135 140 145]\n"
     ]
    }
   ],
   "source": [
    "print (arr1[10:50:5])"
   ]
  },
  {
   "cell_type": "code",
   "execution_count": 9,
   "id": "5e6b7b4c",
   "metadata": {},
   "outputs": [
    {
     "name": "stdout",
     "output_type": "stream",
     "text": [
      "[100 110 120 130 140 150 160 170 180 190]\n"
     ]
    }
   ],
   "source": [
    "\n",
    "\n",
    "print (arr1[::10])\n"
   ]
  },
  {
   "cell_type": "code",
   "execution_count": 10,
   "id": "af730740",
   "metadata": {},
   "outputs": [
    {
     "name": "stdout",
     "output_type": "stream",
     "text": [
      "[199 189 179 169 159 149 139 129 119 109]\n"
     ]
    }
   ],
   "source": [
    "\n",
    "\n",
    "print (arr1[::-10])"
   ]
  },
  {
   "cell_type": "code",
   "execution_count": 11,
   "id": "28c6b4e9",
   "metadata": {},
   "outputs": [
    {
     "name": "stdout",
     "output_type": "stream",
     "text": [
      "slice(1, 10, 2)\n",
      "[101 103 105 107 109]\n"
     ]
    }
   ],
   "source": [
    "arr_slice = slice (1,10,2)\n",
    "print (arr_slice)\n",
    "print (arr1[arr_slice])\n"
   ]
  },
  {
   "cell_type": "code",
   "execution_count": 12,
   "id": "4e1d81ec",
   "metadata": {},
   "outputs": [
    {
     "name": "stdout",
     "output_type": "stream",
     "text": [
      "[0 1 2 3 4 5 6 7 8]\n"
     ]
    },
    {
     "data": {
      "text/plain": [
       "array([[0, 1, 2],\n",
       "       [3, 4, 5],\n",
       "       [6, 7, 8]])"
      ]
     },
     "execution_count": 12,
     "metadata": {},
     "output_type": "execute_result"
    }
   ],
   "source": [
    "arr1 =  np.arange(9)\n",
    "print (arr1)\n",
    "arr1=arr1.reshape(3,3)\n",
    "arr1"
   ]
  },
  {
   "cell_type": "code",
   "execution_count": 15,
   "id": "6907ceab",
   "metadata": {},
   "outputs": [
    {
     "data": {
      "text/plain": [
       "array([[3, 4, 5],\n",
       "       [6, 7, 8]])"
      ]
     },
     "execution_count": 15,
     "metadata": {},
     "output_type": "execute_result"
    }
   ],
   "source": [
    "arr1[1:]"
   ]
  },
  {
   "cell_type": "code",
   "execution_count": 16,
   "id": "b0712196",
   "metadata": {},
   "outputs": [
    {
     "data": {
      "text/plain": [
       "array([[4, 5],\n",
       "       [7, 8]])"
      ]
     },
     "execution_count": 16,
     "metadata": {},
     "output_type": "execute_result"
    }
   ],
   "source": [
    "arr1[1:,1:]"
   ]
  },
  {
   "cell_type": "code",
   "execution_count": 17,
   "id": "76904475",
   "metadata": {},
   "outputs": [
    {
     "data": {
      "text/plain": [
       "array([[0, 1, 2],\n",
       "       [3, 4, 5],\n",
       "       [6, 7, 8]])"
      ]
     },
     "execution_count": 17,
     "metadata": {},
     "output_type": "execute_result"
    }
   ],
   "source": [
    "arr1"
   ]
  },
  {
   "cell_type": "code",
   "execution_count": 20,
   "id": "887f0838",
   "metadata": {},
   "outputs": [
    {
     "name": "stdout",
     "output_type": "stream",
     "text": [
      "[[0 1 2]\n",
      " [3 4 5]]\n"
     ]
    }
   ],
   "source": [
    "arr2 = arr1[:2]\n",
    "print (arr2)\n"
   ]
  },
  {
   "cell_type": "code",
   "execution_count": 21,
   "id": "f1eb0a20",
   "metadata": {},
   "outputs": [
    {
     "name": "stdout",
     "output_type": "stream",
     "text": [
      "[[0 1]\n",
      " [3 4]]\n"
     ]
    }
   ],
   "source": [
    "arr2 = arr1[:2,0:2]\n",
    "print (arr2)"
   ]
  },
  {
   "cell_type": "code",
   "execution_count": 22,
   "id": "50a136d4",
   "metadata": {},
   "outputs": [
    {
     "name": "stdout",
     "output_type": "stream",
     "text": [
      "[[0 1 2]\n",
      " [3 4 5]\n",
      " [6 7 8]]\n"
     ]
    }
   ],
   "source": [
    "print (arr1)"
   ]
  },
  {
   "cell_type": "code",
   "execution_count": 23,
   "id": "88a7e87c",
   "metadata": {},
   "outputs": [
    {
     "name": "stdout",
     "output_type": "stream",
     "text": [
      "(3, 3)\n"
     ]
    }
   ],
   "source": [
    "print (arr1.shape)"
   ]
  },
  {
   "cell_type": "code",
   "execution_count": 24,
   "id": "45c0bcdb",
   "metadata": {},
   "outputs": [
    {
     "name": "stdout",
     "output_type": "stream",
     "text": [
      "2\n"
     ]
    }
   ],
   "source": [
    "print (arr1.ndim)"
   ]
  },
  {
   "cell_type": "code",
   "execution_count": 25,
   "id": "69891064",
   "metadata": {},
   "outputs": [
    {
     "name": "stdout",
     "output_type": "stream",
     "text": [
      "4\n"
     ]
    }
   ],
   "source": [
    "print (arr1.itemsize)"
   ]
  },
  {
   "cell_type": "code",
   "execution_count": 26,
   "id": "d03d41dd",
   "metadata": {},
   "outputs": [
    {
     "name": "stdout",
     "output_type": "stream",
     "text": [
      "int32\n"
     ]
    }
   ],
   "source": [
    "print (arr1.dtype)"
   ]
  },
  {
   "cell_type": "code",
   "execution_count": 27,
   "id": "cde2b5ba",
   "metadata": {},
   "outputs": [
    {
     "name": "stdout",
     "output_type": "stream",
     "text": [
      "9\n"
     ]
    }
   ],
   "source": [
    "print (arr1.size)"
   ]
  },
  {
   "cell_type": "code",
   "execution_count": null,
   "id": "3def9f40",
   "metadata": {},
   "outputs": [],
   "source": []
  },
  {
   "cell_type": "code",
   "execution_count": 28,
   "id": "ece1cee5",
   "metadata": {},
   "outputs": [
    {
     "data": {
      "text/plain": [
       "array([[0, 1, 2],\n",
       "       [3, 4, 5],\n",
       "       [6, 7, 8]])"
      ]
     },
     "execution_count": 28,
     "metadata": {},
     "output_type": "execute_result"
    }
   ],
   "source": [
    "arr1"
   ]
  },
  {
   "cell_type": "code",
   "execution_count": 29,
   "id": "e696ef5d",
   "metadata": {},
   "outputs": [
    {
     "name": "stdout",
     "output_type": "stream",
     "text": [
      "0\n"
     ]
    }
   ],
   "source": [
    "print (arr1.min())"
   ]
  },
  {
   "cell_type": "code",
   "execution_count": 30,
   "id": "af8d71a6",
   "metadata": {},
   "outputs": [
    {
     "name": "stdout",
     "output_type": "stream",
     "text": [
      "8\n"
     ]
    }
   ],
   "source": [
    "\n",
    "print (arr1.max())"
   ]
  },
  {
   "cell_type": "code",
   "execution_count": 32,
   "id": "f2e9cb78",
   "metadata": {},
   "outputs": [
    {
     "name": "stdout",
     "output_type": "stream",
     "text": [
      "36\n"
     ]
    }
   ],
   "source": [
    "\n",
    "print (arr1.sum())"
   ]
  },
  {
   "cell_type": "code",
   "execution_count": 33,
   "id": "60a01571",
   "metadata": {},
   "outputs": [
    {
     "name": "stdout",
     "output_type": "stream",
     "text": [
      "[[0.         1.         1.41421356]\n",
      " [1.73205081 2.         2.23606798]\n",
      " [2.44948974 2.64575131 2.82842712]]\n"
     ]
    }
   ],
   "source": [
    "\n",
    "print (np.sqrt(arr1))\n",
    "\n"
   ]
  },
  {
   "cell_type": "code",
   "execution_count": 34,
   "id": "c2187417",
   "metadata": {},
   "outputs": [
    {
     "name": "stdout",
     "output_type": "stream",
     "text": [
      "2.581988897471611\n"
     ]
    }
   ],
   "source": [
    "print (np.std(arr1))"
   ]
  },
  {
   "cell_type": "code",
   "execution_count": 35,
   "id": "06fa7c6f",
   "metadata": {},
   "outputs": [
    {
     "name": "stdout",
     "output_type": "stream",
     "text": [
      "[[0. 0.]\n",
      " [0. 0.]\n",
      " [0. 0.]]\n"
     ]
    }
   ],
   "source": [
    "arr5 = np.empty([3,2], dtype =  float)\n",
    "print (arr5)\n"
   ]
  },
  {
   "cell_type": "code",
   "execution_count": 36,
   "id": "cd9a6c2d",
   "metadata": {},
   "outputs": [
    {
     "name": "stdout",
     "output_type": "stream",
     "text": [
      "[[1568221584        504]\n",
      " [         0          0]\n",
      " [         1  757935405]]\n"
     ]
    }
   ],
   "source": [
    "arr5 = np.empty([3,2], dtype =  int)\n",
    "print (arr5)\n"
   ]
  },
  {
   "cell_type": "code",
   "execution_count": 37,
   "id": "f8142333",
   "metadata": {},
   "outputs": [
    {
     "name": "stdout",
     "output_type": "stream",
     "text": [
      "[['' '']\n",
      " ['' '']\n",
      " ['' '']]\n"
     ]
    }
   ],
   "source": [
    "arr5 = np.empty([3,2], dtype =  str)\n",
    "print (arr5)\n"
   ]
  },
  {
   "cell_type": "code",
   "execution_count": 38,
   "id": "e8656d89",
   "metadata": {},
   "outputs": [
    {
     "name": "stdout",
     "output_type": "stream",
     "text": [
      "[[False False]\n",
      " [False False]\n",
      " [False False]]\n"
     ]
    }
   ],
   "source": [
    "arr5 = np.empty([3,2], dtype = bool)\n",
    "print (arr5)"
   ]
  },
  {
   "cell_type": "code",
   "execution_count": 39,
   "id": "42af83b0",
   "metadata": {},
   "outputs": [
    {
     "data": {
      "text/plain": [
       "['ALLOW_THREADS',\n",
       " 'AxisError',\n",
       " 'BUFSIZE',\n",
       " 'CLIP',\n",
       " 'ComplexWarning',\n",
       " 'DataSource',\n",
       " 'ERR_CALL',\n",
       " 'ERR_DEFAULT',\n",
       " 'ERR_IGNORE',\n",
       " 'ERR_LOG',\n",
       " 'ERR_PRINT',\n",
       " 'ERR_RAISE',\n",
       " 'ERR_WARN',\n",
       " 'FLOATING_POINT_SUPPORT',\n",
       " 'FPE_DIVIDEBYZERO',\n",
       " 'FPE_INVALID',\n",
       " 'FPE_OVERFLOW',\n",
       " 'FPE_UNDERFLOW',\n",
       " 'False_',\n",
       " 'Inf',\n",
       " 'Infinity',\n",
       " 'MAXDIMS',\n",
       " 'MAY_SHARE_BOUNDS',\n",
       " 'MAY_SHARE_EXACT',\n",
       " 'ModuleDeprecationWarning',\n",
       " 'NAN',\n",
       " 'NINF',\n",
       " 'NZERO',\n",
       " 'NaN',\n",
       " 'PINF',\n",
       " 'PZERO',\n",
       " 'RAISE',\n",
       " 'RankWarning',\n",
       " 'SHIFT_DIVIDEBYZERO',\n",
       " 'SHIFT_INVALID',\n",
       " 'SHIFT_OVERFLOW',\n",
       " 'SHIFT_UNDERFLOW',\n",
       " 'ScalarType',\n",
       " 'Tester',\n",
       " 'TooHardError',\n",
       " 'True_',\n",
       " 'UFUNC_BUFSIZE_DEFAULT',\n",
       " 'UFUNC_PYVALS_NAME',\n",
       " 'VisibleDeprecationWarning',\n",
       " 'WRAP',\n",
       " '_CopyMode',\n",
       " '_NoValue',\n",
       " '_UFUNC_API',\n",
       " '__NUMPY_SETUP__',\n",
       " '__all__',\n",
       " '__builtins__',\n",
       " '__cached__',\n",
       " '__config__',\n",
       " '__deprecated_attrs__',\n",
       " '__dir__',\n",
       " '__doc__',\n",
       " '__expired_functions__',\n",
       " '__file__',\n",
       " '__getattr__',\n",
       " '__git_version__',\n",
       " '__loader__',\n",
       " '__name__',\n",
       " '__package__',\n",
       " '__path__',\n",
       " '__spec__',\n",
       " '__version__',\n",
       " '_add_newdoc_ufunc',\n",
       " '_distributor_init',\n",
       " '_financial_names',\n",
       " '_from_dlpack',\n",
       " '_globals',\n",
       " '_mat',\n",
       " '_pytesttester',\n",
       " '_version',\n",
       " 'abs',\n",
       " 'absolute',\n",
       " 'add',\n",
       " 'add_docstring',\n",
       " 'add_newdoc',\n",
       " 'add_newdoc_ufunc',\n",
       " 'alen',\n",
       " 'all',\n",
       " 'allclose',\n",
       " 'alltrue',\n",
       " 'amax',\n",
       " 'amin',\n",
       " 'angle',\n",
       " 'any',\n",
       " 'append',\n",
       " 'apply_along_axis',\n",
       " 'apply_over_axes',\n",
       " 'arange',\n",
       " 'arccos',\n",
       " 'arccosh',\n",
       " 'arcsin',\n",
       " 'arcsinh',\n",
       " 'arctan',\n",
       " 'arctan2',\n",
       " 'arctanh',\n",
       " 'argmax',\n",
       " 'argmin',\n",
       " 'argpartition',\n",
       " 'argsort',\n",
       " 'argwhere',\n",
       " 'around',\n",
       " 'array',\n",
       " 'array2string',\n",
       " 'array_equal',\n",
       " 'array_equiv',\n",
       " 'array_repr',\n",
       " 'array_split',\n",
       " 'array_str',\n",
       " 'asanyarray',\n",
       " 'asarray',\n",
       " 'asarray_chkfinite',\n",
       " 'ascontiguousarray',\n",
       " 'asfarray',\n",
       " 'asfortranarray',\n",
       " 'asmatrix',\n",
       " 'asscalar',\n",
       " 'atleast_1d',\n",
       " 'atleast_2d',\n",
       " 'atleast_3d',\n",
       " 'average',\n",
       " 'bartlett',\n",
       " 'base_repr',\n",
       " 'binary_repr',\n",
       " 'bincount',\n",
       " 'bitwise_and',\n",
       " 'bitwise_not',\n",
       " 'bitwise_or',\n",
       " 'bitwise_xor',\n",
       " 'blackman',\n",
       " 'block',\n",
       " 'bmat',\n",
       " 'bool8',\n",
       " 'bool_',\n",
       " 'broadcast',\n",
       " 'broadcast_arrays',\n",
       " 'broadcast_shapes',\n",
       " 'broadcast_to',\n",
       " 'busday_count',\n",
       " 'busday_offset',\n",
       " 'busdaycalendar',\n",
       " 'byte',\n",
       " 'byte_bounds',\n",
       " 'bytes0',\n",
       " 'bytes_',\n",
       " 'c_',\n",
       " 'can_cast',\n",
       " 'cast',\n",
       " 'cbrt',\n",
       " 'cdouble',\n",
       " 'ceil',\n",
       " 'cfloat',\n",
       " 'char',\n",
       " 'character',\n",
       " 'chararray',\n",
       " 'choose',\n",
       " 'clip',\n",
       " 'clongdouble',\n",
       " 'clongfloat',\n",
       " 'column_stack',\n",
       " 'common_type',\n",
       " 'compare_chararrays',\n",
       " 'compat',\n",
       " 'complex128',\n",
       " 'complex64',\n",
       " 'complex_',\n",
       " 'complexfloating',\n",
       " 'compress',\n",
       " 'concatenate',\n",
       " 'conj',\n",
       " 'conjugate',\n",
       " 'convolve',\n",
       " 'copy',\n",
       " 'copysign',\n",
       " 'copyto',\n",
       " 'core',\n",
       " 'corrcoef',\n",
       " 'correlate',\n",
       " 'cos',\n",
       " 'cosh',\n",
       " 'count_nonzero',\n",
       " 'cov',\n",
       " 'cross',\n",
       " 'csingle',\n",
       " 'ctypeslib',\n",
       " 'cumprod',\n",
       " 'cumproduct',\n",
       " 'cumsum',\n",
       " 'datetime64',\n",
       " 'datetime_as_string',\n",
       " 'datetime_data',\n",
       " 'deg2rad',\n",
       " 'degrees',\n",
       " 'delete',\n",
       " 'deprecate',\n",
       " 'deprecate_with_doc',\n",
       " 'diag',\n",
       " 'diag_indices',\n",
       " 'diag_indices_from',\n",
       " 'diagflat',\n",
       " 'diagonal',\n",
       " 'diff',\n",
       " 'digitize',\n",
       " 'disp',\n",
       " 'divide',\n",
       " 'divmod',\n",
       " 'dot',\n",
       " 'double',\n",
       " 'dsplit',\n",
       " 'dstack',\n",
       " 'dtype',\n",
       " 'e',\n",
       " 'ediff1d',\n",
       " 'einsum',\n",
       " 'einsum_path',\n",
       " 'emath',\n",
       " 'empty',\n",
       " 'empty_like',\n",
       " 'equal',\n",
       " 'errstate',\n",
       " 'euler_gamma',\n",
       " 'exp',\n",
       " 'exp2',\n",
       " 'expand_dims',\n",
       " 'expm1',\n",
       " 'extract',\n",
       " 'eye',\n",
       " 'fabs',\n",
       " 'fastCopyAndTranspose',\n",
       " 'fft',\n",
       " 'fill_diagonal',\n",
       " 'find_common_type',\n",
       " 'finfo',\n",
       " 'fix',\n",
       " 'flatiter',\n",
       " 'flatnonzero',\n",
       " 'flexible',\n",
       " 'flip',\n",
       " 'fliplr',\n",
       " 'flipud',\n",
       " 'float16',\n",
       " 'float32',\n",
       " 'float64',\n",
       " 'float_',\n",
       " 'float_power',\n",
       " 'floating',\n",
       " 'floor',\n",
       " 'floor_divide',\n",
       " 'fmax',\n",
       " 'fmin',\n",
       " 'fmod',\n",
       " 'format_float_positional',\n",
       " 'format_float_scientific',\n",
       " 'format_parser',\n",
       " 'frexp',\n",
       " 'frombuffer',\n",
       " 'fromfile',\n",
       " 'fromfunction',\n",
       " 'fromiter',\n",
       " 'frompyfunc',\n",
       " 'fromregex',\n",
       " 'fromstring',\n",
       " 'full',\n",
       " 'full_like',\n",
       " 'gcd',\n",
       " 'generic',\n",
       " 'genfromtxt',\n",
       " 'geomspace',\n",
       " 'get_array_wrap',\n",
       " 'get_include',\n",
       " 'get_printoptions',\n",
       " 'getbufsize',\n",
       " 'geterr',\n",
       " 'geterrcall',\n",
       " 'geterrobj',\n",
       " 'gradient',\n",
       " 'greater',\n",
       " 'greater_equal',\n",
       " 'half',\n",
       " 'hamming',\n",
       " 'hanning',\n",
       " 'heaviside',\n",
       " 'histogram',\n",
       " 'histogram2d',\n",
       " 'histogram_bin_edges',\n",
       " 'histogramdd',\n",
       " 'hsplit',\n",
       " 'hstack',\n",
       " 'hypot',\n",
       " 'i0',\n",
       " 'identity',\n",
       " 'iinfo',\n",
       " 'imag',\n",
       " 'in1d',\n",
       " 'index_exp',\n",
       " 'indices',\n",
       " 'inexact',\n",
       " 'inf',\n",
       " 'info',\n",
       " 'infty',\n",
       " 'inner',\n",
       " 'insert',\n",
       " 'int0',\n",
       " 'int16',\n",
       " 'int32',\n",
       " 'int64',\n",
       " 'int8',\n",
       " 'int_',\n",
       " 'intc',\n",
       " 'integer',\n",
       " 'interp',\n",
       " 'intersect1d',\n",
       " 'intp',\n",
       " 'invert',\n",
       " 'is_busday',\n",
       " 'isclose',\n",
       " 'iscomplex',\n",
       " 'iscomplexobj',\n",
       " 'isfinite',\n",
       " 'isfortran',\n",
       " 'isin',\n",
       " 'isinf',\n",
       " 'isnan',\n",
       " 'isnat',\n",
       " 'isneginf',\n",
       " 'isposinf',\n",
       " 'isreal',\n",
       " 'isrealobj',\n",
       " 'isscalar',\n",
       " 'issctype',\n",
       " 'issubclass_',\n",
       " 'issubdtype',\n",
       " 'issubsctype',\n",
       " 'iterable',\n",
       " 'ix_',\n",
       " 'kaiser',\n",
       " 'kron',\n",
       " 'lcm',\n",
       " 'ldexp',\n",
       " 'left_shift',\n",
       " 'less',\n",
       " 'less_equal',\n",
       " 'lexsort',\n",
       " 'lib',\n",
       " 'linalg',\n",
       " 'linspace',\n",
       " 'little_endian',\n",
       " 'load',\n",
       " 'loadtxt',\n",
       " 'log',\n",
       " 'log10',\n",
       " 'log1p',\n",
       " 'log2',\n",
       " 'logaddexp',\n",
       " 'logaddexp2',\n",
       " 'logical_and',\n",
       " 'logical_not',\n",
       " 'logical_or',\n",
       " 'logical_xor',\n",
       " 'logspace',\n",
       " 'longcomplex',\n",
       " 'longdouble',\n",
       " 'longfloat',\n",
       " 'longlong',\n",
       " 'lookfor',\n",
       " 'ma',\n",
       " 'mask_indices',\n",
       " 'mat',\n",
       " 'math',\n",
       " 'matmul',\n",
       " 'matrix',\n",
       " 'matrixlib',\n",
       " 'max',\n",
       " 'maximum',\n",
       " 'maximum_sctype',\n",
       " 'may_share_memory',\n",
       " 'mean',\n",
       " 'median',\n",
       " 'memmap',\n",
       " 'meshgrid',\n",
       " 'mgrid',\n",
       " 'min',\n",
       " 'min_scalar_type',\n",
       " 'minimum',\n",
       " 'mintypecode',\n",
       " 'mod',\n",
       " 'modf',\n",
       " 'moveaxis',\n",
       " 'msort',\n",
       " 'multiply',\n",
       " 'nan',\n",
       " 'nan_to_num',\n",
       " 'nanargmax',\n",
       " 'nanargmin',\n",
       " 'nancumprod',\n",
       " 'nancumsum',\n",
       " 'nanmax',\n",
       " 'nanmean',\n",
       " 'nanmedian',\n",
       " 'nanmin',\n",
       " 'nanpercentile',\n",
       " 'nanprod',\n",
       " 'nanquantile',\n",
       " 'nanstd',\n",
       " 'nansum',\n",
       " 'nanvar',\n",
       " 'nbytes',\n",
       " 'ndarray',\n",
       " 'ndenumerate',\n",
       " 'ndim',\n",
       " 'ndindex',\n",
       " 'nditer',\n",
       " 'negative',\n",
       " 'nested_iters',\n",
       " 'newaxis',\n",
       " 'nextafter',\n",
       " 'nonzero',\n",
       " 'not_equal',\n",
       " 'numarray',\n",
       " 'number',\n",
       " 'obj2sctype',\n",
       " 'object0',\n",
       " 'object_',\n",
       " 'ogrid',\n",
       " 'oldnumeric',\n",
       " 'ones',\n",
       " 'ones_like',\n",
       " 'os',\n",
       " 'outer',\n",
       " 'packbits',\n",
       " 'pad',\n",
       " 'partition',\n",
       " 'percentile',\n",
       " 'pi',\n",
       " 'piecewise',\n",
       " 'place',\n",
       " 'poly',\n",
       " 'poly1d',\n",
       " 'polyadd',\n",
       " 'polyder',\n",
       " 'polydiv',\n",
       " 'polyfit',\n",
       " 'polyint',\n",
       " 'polymul',\n",
       " 'polynomial',\n",
       " 'polysub',\n",
       " 'polyval',\n",
       " 'positive',\n",
       " 'power',\n",
       " 'printoptions',\n",
       " 'prod',\n",
       " 'product',\n",
       " 'promote_types',\n",
       " 'ptp',\n",
       " 'put',\n",
       " 'put_along_axis',\n",
       " 'putmask',\n",
       " 'quantile',\n",
       " 'r_',\n",
       " 'rad2deg',\n",
       " 'radians',\n",
       " 'random',\n",
       " 'ravel',\n",
       " 'ravel_multi_index',\n",
       " 'real',\n",
       " 'real_if_close',\n",
       " 'rec',\n",
       " 'recarray',\n",
       " 'recfromcsv',\n",
       " 'recfromtxt',\n",
       " 'reciprocal',\n",
       " 'record',\n",
       " 'remainder',\n",
       " 'repeat',\n",
       " 'require',\n",
       " 'reshape',\n",
       " 'resize',\n",
       " 'result_type',\n",
       " 'right_shift',\n",
       " 'rint',\n",
       " 'roll',\n",
       " 'rollaxis',\n",
       " 'roots',\n",
       " 'rot90',\n",
       " 'round',\n",
       " 'round_',\n",
       " 'row_stack',\n",
       " 's_',\n",
       " 'safe_eval',\n",
       " 'save',\n",
       " 'savetxt',\n",
       " 'savez',\n",
       " 'savez_compressed',\n",
       " 'sctype2char',\n",
       " 'sctypeDict',\n",
       " 'sctypes',\n",
       " 'searchsorted',\n",
       " 'select',\n",
       " 'set_numeric_ops',\n",
       " 'set_printoptions',\n",
       " 'set_string_function',\n",
       " 'setbufsize',\n",
       " 'setdiff1d',\n",
       " 'seterr',\n",
       " 'seterrcall',\n",
       " 'seterrobj',\n",
       " 'setxor1d',\n",
       " 'shape',\n",
       " 'shares_memory',\n",
       " 'short',\n",
       " 'show_config',\n",
       " 'sign',\n",
       " 'signbit',\n",
       " 'signedinteger',\n",
       " 'sin',\n",
       " 'sinc',\n",
       " 'single',\n",
       " 'singlecomplex',\n",
       " 'sinh',\n",
       " 'size',\n",
       " 'sometrue',\n",
       " 'sort',\n",
       " 'sort_complex',\n",
       " 'source',\n",
       " 'spacing',\n",
       " 'split',\n",
       " 'sqrt',\n",
       " 'square',\n",
       " 'squeeze',\n",
       " 'stack',\n",
       " 'std',\n",
       " 'str0',\n",
       " 'str_',\n",
       " 'string_',\n",
       " 'subtract',\n",
       " 'sum',\n",
       " 'swapaxes',\n",
       " 'sys',\n",
       " 'take',\n",
       " 'take_along_axis',\n",
       " 'tan',\n",
       " 'tanh',\n",
       " 'tensordot',\n",
       " 'test',\n",
       " 'testing',\n",
       " 'tile',\n",
       " 'timedelta64',\n",
       " 'trace',\n",
       " 'tracemalloc_domain',\n",
       " 'transpose',\n",
       " 'trapz',\n",
       " 'tri',\n",
       " 'tril',\n",
       " 'tril_indices',\n",
       " 'tril_indices_from',\n",
       " 'trim_zeros',\n",
       " 'triu',\n",
       " 'triu_indices',\n",
       " 'triu_indices_from',\n",
       " 'true_divide',\n",
       " 'trunc',\n",
       " 'typecodes',\n",
       " 'typename',\n",
       " 'ubyte',\n",
       " 'ufunc',\n",
       " 'uint',\n",
       " 'uint0',\n",
       " 'uint16',\n",
       " 'uint32',\n",
       " 'uint64',\n",
       " 'uint8',\n",
       " 'uintc',\n",
       " 'uintp',\n",
       " 'ulonglong',\n",
       " 'unicode_',\n",
       " 'union1d',\n",
       " 'unique',\n",
       " 'unpackbits',\n",
       " 'unravel_index',\n",
       " 'unsignedinteger',\n",
       " 'unwrap',\n",
       " 'use_hugepage',\n",
       " 'ushort',\n",
       " 'vander',\n",
       " 'var',\n",
       " 'vdot',\n",
       " 'vectorize',\n",
       " 'version',\n",
       " 'void',\n",
       " 'void0',\n",
       " 'vsplit',\n",
       " 'vstack',\n",
       " 'warnings',\n",
       " 'where',\n",
       " 'who',\n",
       " 'zeros',\n",
       " 'zeros_like']"
      ]
     },
     "execution_count": 39,
     "metadata": {},
     "output_type": "execute_result"
    }
   ],
   "source": [
    "dir (np)"
   ]
  },
  {
   "cell_type": "code",
   "execution_count": 40,
   "id": "5a0c8d0e",
   "metadata": {},
   "outputs": [
    {
     "name": "stdout",
     "output_type": "stream",
     "text": [
      "ALLOW_THREADS\tAxisError\tBUFSIZE\tCLIP\tComplexWarning\tDataSource\tERR_CALL\tERR_DEFAULT\tERR_IGNORE\tERR_LOG\tERR_PRINT\tERR_RAISE\tERR_WARN\tFLOATING_POINT_SUPPORT\tFPE_DIVIDEBYZERO\tFPE_INVALID\tFPE_OVERFLOW\tFPE_UNDERFLOW\tFalse_\tInf\tInfinity\tMAXDIMS\tMAY_SHARE_BOUNDS\tMAY_SHARE_EXACT\tModuleDeprecationWarning\tNAN\tNINF\tNZERO\tNaN\tPINF\tPZERO\tRAISE\tRankWarning\tSHIFT_DIVIDEBYZERO\tSHIFT_INVALID\tSHIFT_OVERFLOW\tSHIFT_UNDERFLOW\tScalarType\tTester\tTooHardError\tTrue_\tUFUNC_BUFSIZE_DEFAULT\tUFUNC_PYVALS_NAME\tVisibleDeprecationWarning\tWRAP\t_CopyMode\t_NoValue\t_UFUNC_API\t__NUMPY_SETUP__\t__all__\t__builtins__\t__cached__\t__config__\t__deprecated_attrs__\t__dir__\t__doc__\t__expired_functions__\t__file__\t__getattr__\t__git_version__\t__loader__\t__name__\t__package__\t__path__\t__spec__\t__version__\t_add_newdoc_ufunc\t_distributor_init\t_financial_names\t_from_dlpack\t_globals\t_mat\t_pytesttester\t_version\tabs\tabsolute\tadd\tadd_docstring\tadd_newdoc\tadd_newdoc_ufunc\talen\tall\tallclose\talltrue\tamax\tamin\tangle\tany\tappend\tapply_along_axis\tapply_over_axes\tarange\tarccos\tarccosh\tarcsin\tarcsinh\tarctan\tarctan2\tarctanh\targmax\targmin\targpartition\targsort\targwhere\taround\tarray\tarray2string\tarray_equal\tarray_equiv\tarray_repr\tarray_split\tarray_str\tasanyarray\tasarray\tasarray_chkfinite\tascontiguousarray\tasfarray\tasfortranarray\tasmatrix\tasscalar\tatleast_1d\tatleast_2d\tatleast_3d\taverage\tbartlett\tbase_repr\tbinary_repr\tbincount\tbitwise_and\tbitwise_not\tbitwise_or\tbitwise_xor\tblackman\tblock\tbmat\tbool8\tbool_\tbroadcast\tbroadcast_arrays\tbroadcast_shapes\tbroadcast_to\tbusday_count\tbusday_offset\tbusdaycalendar\tbyte\tbyte_bounds\tbytes0\tbytes_\tc_\tcan_cast\tcast\tcbrt\tcdouble\tceil\tcfloat\tchar\tcharacter\tchararray\tchoose\tclip\tclongdouble\tclongfloat\tcolumn_stack\tcommon_type\tcompare_chararrays\tcompat\tcomplex128\tcomplex64\tcomplex_\tcomplexfloating\tcompress\tconcatenate\tconj\tconjugate\tconvolve\tcopy\tcopysign\tcopyto\tcore\tcorrcoef\tcorrelate\tcos\tcosh\tcount_nonzero\tcov\tcross\tcsingle\tctypeslib\tcumprod\tcumproduct\tcumsum\tdatetime64\tdatetime_as_string\tdatetime_data\tdeg2rad\tdegrees\tdelete\tdeprecate\tdeprecate_with_doc\tdiag\tdiag_indices\tdiag_indices_from\tdiagflat\tdiagonal\tdiff\tdigitize\tdisp\tdivide\tdivmod\tdot\tdouble\tdsplit\tdstack\tdtype\te\tediff1d\teinsum\teinsum_path\temath\tempty\tempty_like\tequal\terrstate\teuler_gamma\texp\texp2\texpand_dims\texpm1\textract\teye\tfabs\tfastCopyAndTranspose\tfft\tfill_diagonal\tfind_common_type\tfinfo\tfix\tflatiter\tflatnonzero\tflexible\tflip\tfliplr\tflipud\tfloat16\tfloat32\tfloat64\tfloat_\tfloat_power\tfloating\tfloor\tfloor_divide\tfmax\tfmin\tfmod\tformat_float_positional\tformat_float_scientific\tformat_parser\tfrexp\tfrombuffer\tfromfile\tfromfunction\tfromiter\tfrompyfunc\tfromregex\tfromstring\tfull\tfull_like\tgcd\tgeneric\tgenfromtxt\tgeomspace\tget_array_wrap\tget_include\tget_printoptions\tgetbufsize\tgeterr\tgeterrcall\tgeterrobj\tgradient\tgreater\tgreater_equal\thalf\thamming\thanning\theaviside\thistogram\thistogram2d\thistogram_bin_edges\thistogramdd\thsplit\thstack\thypot\ti0\tidentity\tiinfo\timag\tin1d\tindex_exp\tindices\tinexact\tinf\tinfo\tinfty\tinner\tinsert\tint0\tint16\tint32\tint64\tint8\tint_\tintc\tinteger\tinterp\tintersect1d\tintp\tinvert\tis_busday\tisclose\tiscomplex\tiscomplexobj\tisfinite\tisfortran\tisin\tisinf\tisnan\tisnat\tisneginf\tisposinf\tisreal\tisrealobj\tisscalar\tissctype\tissubclass_\tissubdtype\tissubsctype\titerable\tix_\tkaiser\tkron\tlcm\tldexp\tleft_shift\tless\tless_equal\tlexsort\tlib\tlinalg\tlinspace\tlittle_endian\tload\tloadtxt\tlog\tlog10\tlog1p\tlog2\tlogaddexp\tlogaddexp2\tlogical_and\tlogical_not\tlogical_or\tlogical_xor\tlogspace\tlongcomplex\tlongdouble\tlongfloat\tlonglong\tlookfor\tma\tmask_indices\tmat\tmath\tmatmul\tmatrix\tmatrixlib\tmax\tmaximum\tmaximum_sctype\tmay_share_memory\tmean\tmedian\tmemmap\tmeshgrid\tmgrid\tmin\tmin_scalar_type\tminimum\tmintypecode\tmod\tmodf\tmoveaxis\tmsort\tmultiply\tnan\tnan_to_num\tnanargmax\tnanargmin\tnancumprod\tnancumsum\tnanmax\tnanmean\tnanmedian\tnanmin\tnanpercentile\tnanprod\tnanquantile\tnanstd\tnansum\tnanvar\tnbytes\tndarray\tndenumerate\tndim\tndindex\tnditer\tnegative\tnested_iters\tnewaxis\tnextafter\tnonzero\tnot_equal\tnumarray\tnumber\tobj2sctype\tobject0\tobject_\togrid\toldnumeric\tones\tones_like\tos\touter\tpackbits\tpad\tpartition\tpercentile\tpi\tpiecewise\tplace\tpoly\tpoly1d\tpolyadd\tpolyder\tpolydiv\tpolyfit\tpolyint\tpolymul\tpolynomial\tpolysub\tpolyval\tpositive\tpower\tprintoptions\tprod\tproduct\tpromote_types\tptp\tput\tput_along_axis\tputmask\tquantile\tr_\trad2deg\tradians\trandom\travel\travel_multi_index\treal\treal_if_close\trec\trecarray\trecfromcsv\trecfromtxt\treciprocal\trecord\tremainder\trepeat\trequire\treshape\tresize\tresult_type\tright_shift\trint\troll\trollaxis\troots\trot90\tround\tround_\trow_stack\ts_\tsafe_eval\tsave\tsavetxt\tsavez\tsavez_compressed\tsctype2char\tsctypeDict\tsctypes\tsearchsorted\tselect\tset_numeric_ops\tset_printoptions\tset_string_function\tsetbufsize\tsetdiff1d\tseterr\tseterrcall\tseterrobj\tsetxor1d\tshape\tshares_memory\tshort\tshow_config\tsign\tsignbit\tsignedinteger\tsin\tsinc\tsingle\tsinglecomplex\tsinh\tsize\tsometrue\tsort\tsort_complex\tsource\tspacing\tsplit\tsqrt\tsquare\tsqueeze\tstack\tstd\tstr0\tstr_\tstring_\tsubtract\tsum\tswapaxes\tsys\ttake\ttake_along_axis\ttan\ttanh\ttensordot\ttest\ttesting\ttile\ttimedelta64\ttrace\ttracemalloc_domain\ttranspose\ttrapz\ttri\ttril\ttril_indices\ttril_indices_from\ttrim_zeros\ttriu\ttriu_indices\ttriu_indices_from\ttrue_divide\ttrunc\ttypecodes\ttypename\tubyte\tufunc\tuint\tuint0\tuint16\tuint32\tuint64\tuint8\tuintc\tuintp\tulonglong\tunicode_\tunion1d\tunique\tunpackbits\tunravel_index\tunsignedinteger\tunwrap\tuse_hugepage\tushort\tvander\tvar\tvdot\tvectorize\tversion\tvoid\tvoid0\tvsplit\tvstack\twarnings\twhere\twho\tzeros\tzeros_like\t"
     ]
    }
   ],
   "source": [
    "import numpy \n",
    "for name in dir(numpy):\n",
    "    print (name, end = '\\t')   \n"
   ]
  },
  {
   "cell_type": "code",
   "execution_count": 41,
   "id": "b9403f6d",
   "metadata": {},
   "outputs": [
    {
     "name": "stdout",
     "output_type": "stream",
     "text": [
      "[1 2 3 4 5]\n",
      "int32\n",
      "\n",
      "\n",
      "[1. 2. 3. 4. 5.]\n",
      "float64\n"
     ]
    }
   ],
   "source": [
    "arr = np.array([1, 2, 3, 4, 5]) \n",
    "print (arr)\n",
    "print (arr.dtype)\n",
    "print ('\\n')\n",
    "float_arr = arr.astype(np.float64) \n",
    "print (float_arr)\n",
    "print (float_arr.dtype)\n"
   ]
  },
  {
   "cell_type": "code",
   "execution_count": 42,
   "id": "266efc50",
   "metadata": {},
   "outputs": [
    {
     "name": "stdout",
     "output_type": "stream",
     "text": [
      "[ True  True  True  True  True]\n",
      "bool\n"
     ]
    },
    {
     "name": "stderr",
     "output_type": "stream",
     "text": [
      "C:\\Users\\noble\\AppData\\Local\\Temp\\ipykernel_11412\\1342837148.py:1: DeprecationWarning: `np.bool` is a deprecated alias for the builtin `bool`. To silence this warning, use `bool` by itself. Doing this will not modify any behavior and is safe. If you specifically wanted the numpy scalar type, use `np.bool_` here.\n",
      "Deprecated in NumPy 1.20; for more details and guidance: https://numpy.org/devdocs/release/1.20.0-notes.html#deprecations\n",
      "  float_arr = arr.astype(np.bool)\n"
     ]
    }
   ],
   "source": [
    "float_arr = arr.astype(np.bool) \n",
    "print (float_arr)\n",
    "print (float_arr.dtype)"
   ]
  },
  {
   "cell_type": "code",
   "execution_count": 43,
   "id": "517a9d2c",
   "metadata": {},
   "outputs": [
    {
     "data": {
      "text/plain": [
       "array([b'1.25', b'-9.6', b'42'], dtype='|S4')"
      ]
     },
     "execution_count": 43,
     "metadata": {},
     "output_type": "execute_result"
    }
   ],
   "source": [
    "np.array(['1.25','-9.6','42'], dtype=np.string_)"
   ]
  },
  {
   "cell_type": "code",
   "execution_count": 44,
   "id": "a73f01ce",
   "metadata": {},
   "outputs": [
    {
     "name": "stderr",
     "output_type": "stream",
     "text": [
      "C:\\Users\\noble\\AppData\\Local\\Temp\\ipykernel_11412\\160474310.py:1: DeprecationWarning: `np.int` is a deprecated alias for the builtin `int`. To silence this warning, use `int` by itself. Doing this will not modify any behavior and is safe. When replacing `np.int`, you may wish to use e.g. `np.int64` or `np.int32` to specify the precision. If you wish to review your current use, check the release note link for additional information.\n",
      "Deprecated in NumPy 1.20; for more details and guidance: https://numpy.org/devdocs/release/1.20.0-notes.html#deprecations\n",
      "  np.array([1.25,-9.6,42], dtype=np.int)\n"
     ]
    },
    {
     "data": {
      "text/plain": [
       "array([ 1, -9, 42])"
      ]
     },
     "execution_count": 44,
     "metadata": {},
     "output_type": "execute_result"
    }
   ],
   "source": [
    "np.array([1.25,-9.6,42], dtype=np.int)"
   ]
  },
  {
   "cell_type": "code",
   "execution_count": 45,
   "id": "90fa92d2",
   "metadata": {},
   "outputs": [
    {
     "name": "stdout",
     "output_type": "stream",
     "text": [
      "[0 1 2 3]\n"
     ]
    }
   ],
   "source": [
    "arr = np.array([3, 2, 0, 1])\n",
    "print(np.sort(arr))\n"
   ]
  },
  {
   "cell_type": "code",
   "execution_count": 46,
   "id": "9c07b30b",
   "metadata": {},
   "outputs": [
    {
     "name": "stdout",
     "output_type": "stream",
     "text": [
      "['apple' 'banana' 'cherry']\n"
     ]
    }
   ],
   "source": [
    "arr = np.array(['banana', 'cherry', 'apple'])\n",
    "print(np.sort(arr))\n"
   ]
  },
  {
   "cell_type": "code",
   "execution_count": 47,
   "id": "b4125458",
   "metadata": {},
   "outputs": [
    {
     "name": "stdout",
     "output_type": "stream",
     "text": [
      "['cherry' 'banana' 'apple']\n"
     ]
    }
   ],
   "source": [
    "arr = np.array(['banana', 'cherry', 'apple'])\n",
    "print(np.sort(arr)[::-1])\n"
   ]
  },
  {
   "cell_type": "code",
   "execution_count": 48,
   "id": "293f47de",
   "metadata": {},
   "outputs": [
    {
     "name": "stdout",
     "output_type": "stream",
     "text": [
      "[[2 3 4]\n",
      " [0 1 5]]\n"
     ]
    }
   ],
   "source": [
    "arr = np.array([[3, 2, 4], [5, 0, 1]])\n",
    "print(np.sort(arr))\n"
   ]
  },
  {
   "cell_type": "code",
   "execution_count": 50,
   "id": "8e04aa48",
   "metadata": {},
   "outputs": [
    {
     "name": "stdout",
     "output_type": "stream",
     "text": [
      "[[3 2 4]\n",
      " [5 0 1]]\n",
      "\n",
      "[[3 0 1]\n",
      " [5 2 4]]\n"
     ]
    }
   ],
   "source": [
    "\n",
    "arr = np.array([[3, 2, 4], [5, 0, 1]])\n",
    "print (arr)\n",
    "print ()\n",
    "print (np.sort(arr, axis = 0))\n"
   ]
  },
  {
   "cell_type": "code",
   "execution_count": 52,
   "id": "b7ae65d8",
   "metadata": {},
   "outputs": [
    {
     "data": {
      "text/plain": [
       "array([[3, 2, 4],\n",
       "       [5, 0, 1]])"
      ]
     },
     "execution_count": 52,
     "metadata": {},
     "output_type": "execute_result"
    }
   ],
   "source": [
    "arr = np.array([[3, 2, 4],\n",
    "                [5, 0, 1]])\n",
    "arr"
   ]
  },
  {
   "cell_type": "code",
   "execution_count": 53,
   "id": "e5142b4a",
   "metadata": {},
   "outputs": [
    {
     "name": "stdout",
     "output_type": "stream",
     "text": [
      "[[4 3 2]\n",
      " [5 1 0]]\n"
     ]
    }
   ],
   "source": [
    "arr = -np.sort(-arr)\n",
    "print(arr)\n"
   ]
  },
  {
   "cell_type": "code",
   "execution_count": null,
   "id": "488a74a6",
   "metadata": {},
   "outputs": [],
   "source": []
  },
  {
   "cell_type": "code",
   "execution_count": null,
   "id": "37b74576",
   "metadata": {},
   "outputs": [],
   "source": []
  }
 ],
 "metadata": {
  "kernelspec": {
   "display_name": "Python 3 (ipykernel)",
   "language": "python",
   "name": "python3"
  },
  "language_info": {
   "codemirror_mode": {
    "name": "ipython",
    "version": 3
   },
   "file_extension": ".py",
   "mimetype": "text/x-python",
   "name": "python",
   "nbconvert_exporter": "python",
   "pygments_lexer": "ipython3",
   "version": "3.9.15"
  }
 },
 "nbformat": 4,
 "nbformat_minor": 5
}
